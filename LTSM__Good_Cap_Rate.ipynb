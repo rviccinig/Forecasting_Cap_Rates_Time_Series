{
  "nbformat": 4,
  "nbformat_minor": 0,
  "metadata": {
    "colab": {
      "name": "LTSM_ Good_Cap_Rate.ipynb",
      "provenance": [],
      "authorship_tag": "ABX9TyNpSF+bFJ7gVb5gz1Qssrp4",
      "include_colab_link": true
    },
    "kernelspec": {
      "name": "python3",
      "display_name": "Python 3"
    },
    "language_info": {
      "name": "python"
    }
  },
  "cells": [
    {
      "cell_type": "markdown",
      "metadata": {
        "id": "view-in-github",
        "colab_type": "text"
      },
      "source": [
        "<a href=\"https://colab.research.google.com/github/rviccinig/Forecasting_Cap_Rates_Time_Series/blob/main/LTSM__Good_Cap_Rate.ipynb\" target=\"_parent\"><img src=\"https://colab.research.google.com/assets/colab-badge.svg\" alt=\"Open In Colab\"/></a>"
      ]
    },
    {
      "cell_type": "code",
      "execution_count": 276,
      "metadata": {
        "id": "pAB3Fzwpv8ZP"
      },
      "outputs": [],
      "source": [
        "#import Packages\n",
        "\n",
        "import numpy as np\n",
        "import pandas as pd\n",
        "\n",
        "import matplotlib.pyplot as plt\n",
        "%matplotlib inline\n",
        "\n",
        "import math\n",
        "from keras.models import Sequential\n",
        "from keras.layers import Dense\n",
        "from keras.layers import LSTM\n",
        "from sklearn.preprocessing import MinMaxScaler\n",
        "from sklearn.metrics import mean_squared_error\n",
        "from sklearn.metrics import mean_absolute_error\n",
        "\n",
        "from IPython.display import SVG\n",
        "from keras.utils.vis_utils import model_to_dot\n",
        "\n",
        "import itertools\n",
        "import warnings\n",
        "warnings.filterwarnings('ignore')"
      ]
    },
    {
      "cell_type": "code",
      "source": [
        "#Open Dataset\n",
        "dataset=pd.read_csv(\"https://raw.githubusercontent.com/rviccinig/Forecasting_Cap_Rates_Time_Series/main/data_ready_2.csv\", header=0)\n",
        "# Drop all NA\n",
        "dataset=dataset.dropna()\n",
        "#Create Dates and Drop the Exisitn gDate\n",
        "dates=pd.date_range(start='2003-09', periods=74, freq='Q')\n",
        "dataset[\"date\"]=dates\n",
        "dataset.drop(['Date'], axis=1, inplace=True)\n",
        "## Shifting the date to the first position, inserted in the first position\n",
        "first_column = dataset.pop('date')  \n",
        "dataset.insert(0, 'date', first_column)"
      ],
      "metadata": {
        "id": "ZbocdU3iwZ1v"
      },
      "execution_count": 277,
      "outputs": []
    },
    {
      "cell_type": "markdown",
      "source": [
        "LTSM MODEL - Prepare the Data"
      ],
      "metadata": {
        "id": "Q97KesPYnDX7"
      }
    },
    {
      "cell_type": "code",
      "source": [
        "# prepare data for lstm\n",
        "from pandas import read_csv\n",
        "from pandas import DataFrame\n",
        "from pandas import concat\n",
        "from sklearn.preprocessing import LabelEncoder\n",
        "from sklearn.preprocessing import MinMaxScaler"
      ],
      "metadata": {
        "id": "ehckATRHkcxC"
      },
      "execution_count": 278,
      "outputs": []
    },
    {
      "cell_type": "code",
      "source": [
        "# convert series to supervised learning. this function basically takes the data, creates the lags for T and T-1\n",
        "# Really nice function that creates lags\n",
        "def series_to_supervised(data, n_in=1, n_out=1, dropnan=True):\n",
        "\tn_vars = 1 if type(data) is list else data.shape[1]\n",
        "\tdf = DataFrame(data)\n",
        "\tcols, names = list(), list()\n",
        "\t# input sequence (t-n, ... t-1)\n",
        "\tfor i in range(n_in, 0, -1):\n",
        "\t\tcols.append(df.shift(i))\n",
        "\t\tnames += [('var%d(t-%d)' % (j+1, i)) for j in range(n_vars)]\n",
        "\t# forecast sequence (t, t+1, ... t+n)\n",
        "\tfor i in range(0, n_out):\n",
        "\t\tcols.append(df.shift(-i))\n",
        "\t\tif i == 0:\n",
        "\t\t\tnames += [('var%d(t)' % (j+1)) for j in range(n_vars)]\n",
        "\t\telse:\n",
        "\t\t\tnames += [('var%d(t+%d)' % (j+1, i)) for j in range(n_vars)]\n",
        "\t# put it all together\n",
        "\tagg = concat(cols, axis=1)\n",
        "\tagg.columns = names\n",
        "\t# drop rows with NaN values\n",
        "\tif dropnan:\n",
        "\t\tagg.dropna(inplace=True)\n",
        "\treturn agg"
      ],
      "metadata": {
        "id": "y3HDKQnnmGJy"
      },
      "execution_count": 279,
      "outputs": []
    },
    {
      "cell_type": "code",
      "source": [
        "dataset.columns"
      ],
      "metadata": {
        "colab": {
          "base_uri": "https://localhost:8080/"
        },
        "id": "cy9g2C8sqKz4",
        "outputId": "851772eb-1488-4218-c585-0d61c8725056"
      },
      "execution_count": 280,
      "outputs": [
        {
          "output_type": "execute_result",
          "data": {
            "text/plain": [
              "Index(['date', 'Multifamily_Calgary_Downtown ',\n",
              "       'Multifamily_Edmonton_Downtown ', 'Multifamily_Halifax_Downtown ',\n",
              "       'Multifamily_Montreal_Downtown ', 'Multifamily_National_Downtown ',\n",
              "       'Multifamily_Ottawa-Gatineau_Downtown ',\n",
              "       'Multifamily_Toronto_Downtown ', 'Multifamily_Vancouver_Downtown ',\n",
              "       'Multifamily_Montreal_Midtown', 'Multifamily_National_Overall',\n",
              "       'Multifamily_Calgary_Suburban', 'Multifamily_Edmonton_Suburban',\n",
              "       'Multifamily_Halifax_Suburban', 'Multifamily_Montreal_Suburban',\n",
              "       'Multifamily_National_Suburban', 'Multifamily_Ottawa-Gatineau_Suburban',\n",
              "       'Multifamily_Toronto_Suburban', 'Multifamily_Vancouver_Suburban', 'GOC',\n",
              "       'Change_GOC'],\n",
              "      dtype='object')"
            ]
          },
          "metadata": {},
          "execution_count": 280
        }
      ]
    },
    {
      "cell_type": "code",
      "source": [
        "# Configuration File\n",
        "relevant_variables=['date', 'Multifamily_Calgary_Downtown ','GOC']\n",
        "dataset_2=dataset.filter(items=relevant_variables)"
      ],
      "metadata": {
        "id": "p_FYFEG2qNvE"
      },
      "execution_count": 281,
      "outputs": []
    },
    {
      "cell_type": "code",
      "source": [
        ""
      ],
      "metadata": {
        "id": "mLA7hnWcGfQN"
      },
      "execution_count": 281,
      "outputs": []
    },
    {
      "cell_type": "code",
      "source": [
        "# Take only the values out of the Pandas Dataframe\n",
        "values = dataset_2.values\n",
        "# Make sure all your values are float\n",
        "values[:,1:] = values[:,1:].astype('float32')\n",
        "# normalize all features(Variables) to values between 0 and 1\n",
        "scaler = MinMaxScaler(feature_range=(0, 1))\n",
        "scaled = scaler.fit_transform(values[:,1:])\n",
        "#frame as supervised learning\n",
        "#Reframed, what is doing is creating a pandas dataframe and creates lagged varibales , t-1\n",
        "reframed = series_to_supervised(scaled, 2, 1)\n",
        "reframed.drop(reframed.columns[[5]], axis=1, inplace=True)\n",
        "reframed"
      ],
      "metadata": {
        "colab": {
          "base_uri": "https://localhost:8080/",
          "height": 424
        },
        "id": "qgzPghdNmUV5",
        "outputId": "be4a6959-dcf6-4965-efdc-2b978fe7ad3d"
      },
      "execution_count": 282,
      "outputs": [
        {
          "output_type": "execute_result",
          "data": {
            "text/plain": [
              "    var1(t-2)  var2(t-2)  var1(t-1)  var2(t-1)   var1(t)\n",
              "2    1.000000        0.6   1.000000        0.6  1.000000\n",
              "3    1.000000        0.6   1.000000        0.4  1.000000\n",
              "4    1.000000        0.4   1.000000        0.6  0.857143\n",
              "5    1.000000        0.6   0.857143        0.6  0.857143\n",
              "6    0.857143        0.6   0.857143        0.6  0.857143\n",
              "..        ...        ...        ...        ...       ...\n",
              "69   0.028571        0.0   0.057143        0.0  0.057143\n",
              "70   0.057143        0.0   0.057143        0.0  0.057143\n",
              "71   0.057143        0.0   0.057143        0.0  0.057143\n",
              "72   0.057143        0.0   0.057143        0.0  0.057143\n",
              "73   0.057143        0.0   0.057143        0.0  0.057143\n",
              "\n",
              "[72 rows x 5 columns]"
            ],
            "text/html": [
              "\n",
              "  <div id=\"df-7b56e23f-1888-4e46-b49d-523782ddc533\">\n",
              "    <div class=\"colab-df-container\">\n",
              "      <div>\n",
              "<style scoped>\n",
              "    .dataframe tbody tr th:only-of-type {\n",
              "        vertical-align: middle;\n",
              "    }\n",
              "\n",
              "    .dataframe tbody tr th {\n",
              "        vertical-align: top;\n",
              "    }\n",
              "\n",
              "    .dataframe thead th {\n",
              "        text-align: right;\n",
              "    }\n",
              "</style>\n",
              "<table border=\"1\" class=\"dataframe\">\n",
              "  <thead>\n",
              "    <tr style=\"text-align: right;\">\n",
              "      <th></th>\n",
              "      <th>var1(t-2)</th>\n",
              "      <th>var2(t-2)</th>\n",
              "      <th>var1(t-1)</th>\n",
              "      <th>var2(t-1)</th>\n",
              "      <th>var1(t)</th>\n",
              "    </tr>\n",
              "  </thead>\n",
              "  <tbody>\n",
              "    <tr>\n",
              "      <th>2</th>\n",
              "      <td>1.000000</td>\n",
              "      <td>0.6</td>\n",
              "      <td>1.000000</td>\n",
              "      <td>0.6</td>\n",
              "      <td>1.000000</td>\n",
              "    </tr>\n",
              "    <tr>\n",
              "      <th>3</th>\n",
              "      <td>1.000000</td>\n",
              "      <td>0.6</td>\n",
              "      <td>1.000000</td>\n",
              "      <td>0.4</td>\n",
              "      <td>1.000000</td>\n",
              "    </tr>\n",
              "    <tr>\n",
              "      <th>4</th>\n",
              "      <td>1.000000</td>\n",
              "      <td>0.4</td>\n",
              "      <td>1.000000</td>\n",
              "      <td>0.6</td>\n",
              "      <td>0.857143</td>\n",
              "    </tr>\n",
              "    <tr>\n",
              "      <th>5</th>\n",
              "      <td>1.000000</td>\n",
              "      <td>0.6</td>\n",
              "      <td>0.857143</td>\n",
              "      <td>0.6</td>\n",
              "      <td>0.857143</td>\n",
              "    </tr>\n",
              "    <tr>\n",
              "      <th>6</th>\n",
              "      <td>0.857143</td>\n",
              "      <td>0.6</td>\n",
              "      <td>0.857143</td>\n",
              "      <td>0.6</td>\n",
              "      <td>0.857143</td>\n",
              "    </tr>\n",
              "    <tr>\n",
              "      <th>...</th>\n",
              "      <td>...</td>\n",
              "      <td>...</td>\n",
              "      <td>...</td>\n",
              "      <td>...</td>\n",
              "      <td>...</td>\n",
              "    </tr>\n",
              "    <tr>\n",
              "      <th>69</th>\n",
              "      <td>0.028571</td>\n",
              "      <td>0.0</td>\n",
              "      <td>0.057143</td>\n",
              "      <td>0.0</td>\n",
              "      <td>0.057143</td>\n",
              "    </tr>\n",
              "    <tr>\n",
              "      <th>70</th>\n",
              "      <td>0.057143</td>\n",
              "      <td>0.0</td>\n",
              "      <td>0.057143</td>\n",
              "      <td>0.0</td>\n",
              "      <td>0.057143</td>\n",
              "    </tr>\n",
              "    <tr>\n",
              "      <th>71</th>\n",
              "      <td>0.057143</td>\n",
              "      <td>0.0</td>\n",
              "      <td>0.057143</td>\n",
              "      <td>0.0</td>\n",
              "      <td>0.057143</td>\n",
              "    </tr>\n",
              "    <tr>\n",
              "      <th>72</th>\n",
              "      <td>0.057143</td>\n",
              "      <td>0.0</td>\n",
              "      <td>0.057143</td>\n",
              "      <td>0.0</td>\n",
              "      <td>0.057143</td>\n",
              "    </tr>\n",
              "    <tr>\n",
              "      <th>73</th>\n",
              "      <td>0.057143</td>\n",
              "      <td>0.0</td>\n",
              "      <td>0.057143</td>\n",
              "      <td>0.0</td>\n",
              "      <td>0.057143</td>\n",
              "    </tr>\n",
              "  </tbody>\n",
              "</table>\n",
              "<p>72 rows × 5 columns</p>\n",
              "</div>\n",
              "      <button class=\"colab-df-convert\" onclick=\"convertToInteractive('df-7b56e23f-1888-4e46-b49d-523782ddc533')\"\n",
              "              title=\"Convert this dataframe to an interactive table.\"\n",
              "              style=\"display:none;\">\n",
              "        \n",
              "  <svg xmlns=\"http://www.w3.org/2000/svg\" height=\"24px\"viewBox=\"0 0 24 24\"\n",
              "       width=\"24px\">\n",
              "    <path d=\"M0 0h24v24H0V0z\" fill=\"none\"/>\n",
              "    <path d=\"M18.56 5.44l.94 2.06.94-2.06 2.06-.94-2.06-.94-.94-2.06-.94 2.06-2.06.94zm-11 1L8.5 8.5l.94-2.06 2.06-.94-2.06-.94L8.5 2.5l-.94 2.06-2.06.94zm10 10l.94 2.06.94-2.06 2.06-.94-2.06-.94-.94-2.06-.94 2.06-2.06.94z\"/><path d=\"M17.41 7.96l-1.37-1.37c-.4-.4-.92-.59-1.43-.59-.52 0-1.04.2-1.43.59L10.3 9.45l-7.72 7.72c-.78.78-.78 2.05 0 2.83L4 21.41c.39.39.9.59 1.41.59.51 0 1.02-.2 1.41-.59l7.78-7.78 2.81-2.81c.8-.78.8-2.07 0-2.86zM5.41 20L4 18.59l7.72-7.72 1.47 1.35L5.41 20z\"/>\n",
              "  </svg>\n",
              "      </button>\n",
              "      \n",
              "  <style>\n",
              "    .colab-df-container {\n",
              "      display:flex;\n",
              "      flex-wrap:wrap;\n",
              "      gap: 12px;\n",
              "    }\n",
              "\n",
              "    .colab-df-convert {\n",
              "      background-color: #E8F0FE;\n",
              "      border: none;\n",
              "      border-radius: 50%;\n",
              "      cursor: pointer;\n",
              "      display: none;\n",
              "      fill: #1967D2;\n",
              "      height: 32px;\n",
              "      padding: 0 0 0 0;\n",
              "      width: 32px;\n",
              "    }\n",
              "\n",
              "    .colab-df-convert:hover {\n",
              "      background-color: #E2EBFA;\n",
              "      box-shadow: 0px 1px 2px rgba(60, 64, 67, 0.3), 0px 1px 3px 1px rgba(60, 64, 67, 0.15);\n",
              "      fill: #174EA6;\n",
              "    }\n",
              "\n",
              "    [theme=dark] .colab-df-convert {\n",
              "      background-color: #3B4455;\n",
              "      fill: #D2E3FC;\n",
              "    }\n",
              "\n",
              "    [theme=dark] .colab-df-convert:hover {\n",
              "      background-color: #434B5C;\n",
              "      box-shadow: 0px 1px 3px 1px rgba(0, 0, 0, 0.15);\n",
              "      filter: drop-shadow(0px 1px 2px rgba(0, 0, 0, 0.3));\n",
              "      fill: #FFFFFF;\n",
              "    }\n",
              "  </style>\n",
              "\n",
              "      <script>\n",
              "        const buttonEl =\n",
              "          document.querySelector('#df-7b56e23f-1888-4e46-b49d-523782ddc533 button.colab-df-convert');\n",
              "        buttonEl.style.display =\n",
              "          google.colab.kernel.accessAllowed ? 'block' : 'none';\n",
              "\n",
              "        async function convertToInteractive(key) {\n",
              "          const element = document.querySelector('#df-7b56e23f-1888-4e46-b49d-523782ddc533');\n",
              "          const dataTable =\n",
              "            await google.colab.kernel.invokeFunction('convertToInteractive',\n",
              "                                                     [key], {});\n",
              "          if (!dataTable) return;\n",
              "\n",
              "          const docLinkHtml = 'Like what you see? Visit the ' +\n",
              "            '<a target=\"_blank\" href=https://colab.research.google.com/notebooks/data_table.ipynb>data table notebook</a>'\n",
              "            + ' to learn more about interactive tables.';\n",
              "          element.innerHTML = '';\n",
              "          dataTable['output_type'] = 'display_data';\n",
              "          await google.colab.output.renderOutput(dataTable, element);\n",
              "          const docLink = document.createElement('div');\n",
              "          docLink.innerHTML = docLinkHtml;\n",
              "          element.appendChild(docLink);\n",
              "        }\n",
              "      </script>\n",
              "    </div>\n",
              "  </div>\n",
              "  "
            ]
          },
          "metadata": {},
          "execution_count": 282
        }
      ]
    },
    {
      "cell_type": "code",
      "source": [
        "# Next step is to define and Fit the Model\n",
        "# split into train and test sets, Before n_obs and After\n",
        "values = reframed.values\n",
        "n_obs = 50\n",
        "train = values[:n_obs, :]\n",
        "test = values[n_obs:, :]\n",
        "# split into input and outputs, var(t) is my objective variable\n",
        "train_X, train_y = train[:, :-1], train[:, -1]\n",
        "test_X, test_y = test[:, :-1], test[:, -1]\n",
        "# reshape input to be 3D [samples(Observations), timesteps, features(Variables)]\n",
        "train_X = train_X.reshape((train_X.shape[0], 1, train_X.shape[1]))\n",
        "test_X = test_X.reshape((test_X.shape[0], 1, test_X.shape[1]))\n",
        "print(train_X.shape, train_y.shape, test_X.shape, test_y.shape)"
      ],
      "metadata": {
        "colab": {
          "base_uri": "https://localhost:8080/"
        },
        "id": "8HQ5Cl3NnaH4",
        "outputId": "3dd8b4b6-6f43-4e0f-e806-36f869f3ea0f"
      },
      "execution_count": 283,
      "outputs": [
        {
          "output_type": "stream",
          "name": "stdout",
          "text": [
            "(50, 1, 4) (50,) (22, 1, 4) (22,)\n"
          ]
        }
      ]
    },
    {
      "cell_type": "code",
      "source": [
        "# Now create the newral network\n",
        "#Epochs = 50 , is the number of times I fit the data to the model\n",
        "#50 in the LTSM function is the number of neurons\n",
        "\n",
        "# design network\n",
        "model = Sequential()\n",
        "model.add(LSTM(50, input_shape=(train_X.shape[1], train_X.shape[2])))\n",
        "model.add(Dense(1))\n",
        "model.compile(loss='mae', optimizer='adam')\n",
        "# fit network\n",
        "history = model.fit(train_X, train_y, epochs=500, batch_size=40, validation_data=(test_X, test_y), verbose=2, shuffle=False)\n",
        "# plot history\n",
        "plt.plot(history.history['loss'], label='train')\n",
        "plt.plot(history.history['val_loss'], label='test')\n",
        "plt.legend()\n",
        "plt.show()\n"
      ],
      "metadata": {
        "id": "OjZYhE8rnj_Y"
      },
      "execution_count": null,
      "outputs": []
    },
    {
      "cell_type": "code",
      "source": [
        "# Prediction\n",
        "fig, ax1 = plt.subplots(figsize=(8, 8))\n",
        "ax2 = ax1.twinx()\n",
        "\n",
        "ax1.plot(list(range(50)), model.predict(train_X), color='red')\n",
        "ax2.plot(list(range(50)), train_y)"
      ],
      "metadata": {
        "colab": {
          "base_uri": "https://localhost:8080/",
          "height": 500
        },
        "id": "N3J6AHVQoLnI",
        "outputId": "11caf0ce-8cbe-41c5-9259-949a08562014"
      },
      "execution_count": 285,
      "outputs": [
        {
          "output_type": "execute_result",
          "data": {
            "text/plain": [
              "[<matplotlib.lines.Line2D at 0x7f5fb3c40d90>]"
            ]
          },
          "metadata": {},
          "execution_count": 285
        },
        {
          "output_type": "display_data",
          "data": {
            "text/plain": [
              "<Figure size 576x576 with 2 Axes>"
            ],
            "image/png": "[encoded data removed]"
          },
          "metadata": {
            "needs_background": "light"
          }
        }
      ]
    },
    {
      "cell_type": "code",
      "source": [
        "# Prediction\n",
        "fig, ax1 = plt.subplots(figsize=(8, 8))\n",
        "ax2 = ax1.twinx()\n",
        "\n",
        "ax1.plot(list(range(22)), model.predict(test_X), color='red')\n",
        "ax2.plot(list(range(22)), test_y)"
      ],
      "metadata": {
        "colab": {
          "base_uri": "https://localhost:8080/",
          "height": 500
        },
        "id": "VVt1hVdUvNF9",
        "outputId": "6120463f-dc9e-495e-a481-37de3eb55b80"
      },
      "execution_count": 286,
      "outputs": [
        {
          "output_type": "execute_result",
          "data": {
            "text/plain": [
              "[<matplotlib.lines.Line2D at 0x7f5fb28fc3d0>]"
            ]
          },
          "metadata": {},
          "execution_count": 286
        },
        {
          "output_type": "display_data",
          "data": {
            "text/plain": [
              "<Figure size 576x576 with 2 Axes>"
            ],
            "image/png": "[encoded data removed]"
          },
          "metadata": {
            "needs_background": "light"
          }
        }
      ]
    },
    {
      "cell_type": "code",
      "source": [
        "predicted_values=model.predict(test_X)\n",
        "predicitons_2=np.concatenate((predicted_values, predicted_values), axis=1)\n",
        "predicitons_2\n",
        "predicted_values = scaler.inverse_transform(predicitons_2)\n",
        "clean_values_predicted=predicted_values[:, 0]\n",
        "#scaler.inverse_transform(predicted_values)[:,1]"
      ],
      "metadata": {
        "id": "M8QJfq-Hxc_N"
      },
      "execution_count": 291,
      "outputs": []
    },
    {
      "cell_type": "code",
      "source": [
        "predicted_values=test_y.reshape(test_y.shape[0],1)\n",
        "predicitons_2= np.concatenate((predicted_values, predicted_values), axis=1)\n",
        "predicitons_2\n",
        "predicted_values = scaler.inverse_transform(predicitons_2)\n",
        "clean_values_real_values=predicted_values[:, 0]\n",
        "#scaler.inverse_transform(predicted_values)[:,1]"
      ],
      "metadata": {
        "id": "HW1XSI8oyend"
      },
      "execution_count": 292,
      "outputs": []
    },
    {
      "cell_type": "code",
      "source": [
        "# Prediction\n",
        "fig, ax1 = plt.subplots(figsize=(8, 8))\n",
        "ax2 = ax1.twinx()\n",
        "\n",
        "ax1.plot(list(range(clean_values_predicted.shape[0])),clean_values_predicted, color='red')\n",
        "ax2.plot(list(range(clean_values_real_values.shape[0])),clean_values_real_values)"
      ],
      "metadata": {
        "colab": {
          "base_uri": "https://localhost:8080/",
          "height": 500
        },
        "id": "8UsA9REXEV0O",
        "outputId": "bb0b4d29-c8ec-4397-b081-80ba77aab8c6"
      },
      "execution_count": 294,
      "outputs": [
        {
          "output_type": "execute_result",
          "data": {
            "text/plain": [
              "[<matplotlib.lines.Line2D at 0x7f5fb26563d0>]"
            ]
          },
          "metadata": {},
          "execution_count": 294
        },
        {
          "output_type": "display_data",
          "data": {
            "text/plain": [
              "<Figure size 576x576 with 2 Axes>"
            ],
            "image/png": "[encoded data removed]"
          },
          "metadata": {
            "needs_background": "light"
          }
        }
      ]
    },
    {
      "cell_type": "code",
      "source": [
        "print(model.summary())"
      ],
      "metadata": {
        "colab": {
          "base_uri": "https://localhost:8080/"
        },
        "id": "Nzj9sMXrEvBO",
        "outputId": "6dd5a023-e927-4233-ede8-7baa881547d6"
      },
      "execution_count": 297,
      "outputs": [
        {
          "output_type": "stream",
          "name": "stdout",
          "text": [
            "Model: \"sequential_10\"\n",
            "_________________________________________________________________\n",
            " Layer (type)                Output Shape              Param #   \n",
            "=================================================================\n",
            " lstm_10 (LSTM)              (None, 50)                11000     \n",
            "                                                                 \n",
            " dense_10 (Dense)            (None, 1)                 51        \n",
            "                                                                 \n",
            "=================================================================\n",
            "Total params: 11,051\n",
            "Trainable params: 11,051\n",
            "Non-trainable params: 0\n",
            "_________________________________________________________________\n",
            "None\n"
          ]
        }
      ]
    },
    {
      "cell_type": "code",
      "source": [
        "from keras.utils.vis_utils import plot_model\n",
        "\n",
        "plot_model(model, to_file='model_plot.png', show_shapes=True, show_layer_names=True)"
      ],
      "metadata": {
        "colab": {
          "base_uri": "https://localhost:8080/",
          "height": 312
        },
        "id": "xSAbyTisGFEl",
        "outputId": "4412be40-b53c-4ca8-e95e-3d9ebf4a7bf4"
      },
      "execution_count": 298,
      "outputs": [
        {
          "output_type": "execute_result",
          "data": {
            "text/plain": [
              "<IPython.core.display.Image object>"
            ],
            "image/png": "[encoded data removed]"
          },
          "metadata": {},
          "execution_count": 298
        }
      ]
    },
    {
      "cell_type": "code",
      "source": [
        "test_X[0]\n",
        "#The order of the features are  var1(t-2)\tvar2(t-2)\tvar1(t-1)\tvar2(t-1)\twhere in this case var_1= cap rate and var_2=GOC "
      ],
      "metadata": {
        "colab": {
          "base_uri": "https://localhost:8080/"
        },
        "id": "XZyPEJzvQ_vz",
        "outputId": "5563d67b-21c3-440b-c16e-00ee3bdbe325"
      },
      "execution_count": 299,
      "outputs": [
        {
          "output_type": "execute_result",
          "data": {
            "text/plain": [
              "array([[0.14285711, 0.19999999, 0.14285711, 0.19999999]])"
            ]
          },
          "metadata": {},
          "execution_count": 299
        }
      ]
    },
    {
      "cell_type": "code",
      "source": [
        "\n",
        "# Transforming into a 3D array for test predictions, #The order of the features are  var1(t-2)\tvar2(t-2)\tvar1(t-1)\tvar2(t-1)\twhere in this case var_1= cap rate and var_2=GOC \n",
        "trying=test_X[0]\n",
        "trying=trying.reshape(trying.shape[0], 1, trying.shape[1])\n",
        "trying.shape\n",
        "\n",
        "model.predict(trying)"
      ],
      "metadata": {
        "colab": {
          "base_uri": "https://localhost:8080/"
        },
        "id": "qFC89880SUzR",
        "outputId": "c126479b-2294-4f06-bd3d-6271815f3ec8"
      },
      "execution_count": 305,
      "outputs": [
        {
          "output_type": "execute_result",
          "data": {
            "text/plain": [
              "array([[0.14181241]], dtype=float32)"
            ]
          },
          "metadata": {},
          "execution_count": 305
        }
      ]
    },
    {
      "cell_type": "code",
      "source": [
        ""
      ],
      "metadata": {
        "id": "_wCGXYdTSvn5"
      },
      "execution_count": null,
      "outputs": []
    }
  ]
}